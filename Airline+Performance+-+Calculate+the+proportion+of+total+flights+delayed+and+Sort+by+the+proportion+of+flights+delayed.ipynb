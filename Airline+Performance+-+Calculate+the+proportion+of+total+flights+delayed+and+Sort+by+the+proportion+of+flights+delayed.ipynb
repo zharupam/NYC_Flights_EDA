{
 "cells": [
  {
   "cell_type": "code",
   "execution_count": 5,
   "metadata": {
    "collapsed": false
   },
   "outputs": [],
   "source": [
    "#A flight is delayed if the delay is more than 0"
   ]
  },
  {
   "cell_type": "code",
   "execution_count": 19,
   "metadata": {
    "collapsed": true
   },
   "outputs": [],
   "source": [
    "your_local_path=\"D:/Python/\""
   ]
  },
  {
   "cell_type": "code",
   "execution_count": 20,
   "metadata": {
    "collapsed": false
   },
   "outputs": [
    {
     "data": {
      "text/plain": [
       "EV    24484\n",
       "B6    23609\n",
       "UA    22222\n",
       "DL    16413\n",
       "MQ    11693\n",
       "AA    10706\n",
       "US     7349\n",
       "9E     6637\n",
       "WN     5304\n",
       "FL     1895\n",
       "VX     1746\n",
       "F9      392\n",
       "YV      258\n",
       "AS      189\n",
       "HA       97\n",
       "OO       10\n",
       "Name: carrier, dtype: int64"
      ]
     },
     "execution_count": 20,
     "metadata": {},
     "output_type": "execute_result"
    }
   ],
   "source": [
    "import numpy as np\n",
    "from numpy import array\n",
    "import pandas as pd \n",
    "%matplotlib inline\n",
    "\n",
    "\n",
    "flight_data = your_local_path+'flight_data.csv'\n",
    "flight_df = pd.read_csv(flight_data, index_col = 0, thousands  = ',')\n",
    "\n",
    "#carrier wise delay\n",
    "flight_df['delayed'] = flight_df['arr_delay'].apply(lambda x: x >0)\n",
    "delayed_flight=flight_df[flight_df['delayed'] == True]\n",
    "delayed_flight['carrier'].value_counts() \n",
    "\n"
   ]
  },
  {
   "cell_type": "code",
   "execution_count": null,
   "metadata": {
    "collapsed": true
   },
   "outputs": [],
   "source": [
    "'''It might be a good idea to look at the proportion of each airline’s flights that were delayed,\n",
    "rather than just the total number of each airlines delayed flights.'''"
   ]
  },
  {
   "cell_type": "code",
   "execution_count": 21,
   "metadata": {
    "collapsed": false
   },
   "outputs": [
    {
     "data": {
      "text/html": [
       "<div>\n",
       "<table border=\"1\" class=\"dataframe\">\n",
       "  <thead>\n",
       "    <tr style=\"text-align: right;\">\n",
       "      <th>delayed</th>\n",
       "      <th>False</th>\n",
       "      <th>True</th>\n",
       "    </tr>\n",
       "    <tr>\n",
       "      <th>carrier</th>\n",
       "      <th></th>\n",
       "      <th></th>\n",
       "    </tr>\n",
       "  </thead>\n",
       "  <tbody>\n",
       "    <tr>\n",
       "      <th>9E</th>\n",
       "      <td>11823</td>\n",
       "      <td>6637</td>\n",
       "    </tr>\n",
       "    <tr>\n",
       "      <th>AA</th>\n",
       "      <td>22023</td>\n",
       "      <td>10706</td>\n",
       "    </tr>\n",
       "    <tr>\n",
       "      <th>AS</th>\n",
       "      <td>525</td>\n",
       "      <td>189</td>\n",
       "    </tr>\n",
       "    <tr>\n",
       "      <th>B6</th>\n",
       "      <td>31026</td>\n",
       "      <td>23609</td>\n",
       "    </tr>\n",
       "    <tr>\n",
       "      <th>DL</th>\n",
       "      <td>31697</td>\n",
       "      <td>16413</td>\n",
       "    </tr>\n",
       "    <tr>\n",
       "      <th>EV</th>\n",
       "      <td>29689</td>\n",
       "      <td>24484</td>\n",
       "    </tr>\n",
       "    <tr>\n",
       "      <th>F9</th>\n",
       "      <td>293</td>\n",
       "      <td>392</td>\n",
       "    </tr>\n",
       "    <tr>\n",
       "      <th>FL</th>\n",
       "      <td>1365</td>\n",
       "      <td>1895</td>\n",
       "    </tr>\n",
       "    <tr>\n",
       "      <th>HA</th>\n",
       "      <td>245</td>\n",
       "      <td>97</td>\n",
       "    </tr>\n",
       "    <tr>\n",
       "      <th>MQ</th>\n",
       "      <td>14704</td>\n",
       "      <td>11693</td>\n",
       "    </tr>\n",
       "    <tr>\n",
       "      <th>OO</th>\n",
       "      <td>22</td>\n",
       "      <td>10</td>\n",
       "    </tr>\n",
       "    <tr>\n",
       "      <th>UA</th>\n",
       "      <td>36443</td>\n",
       "      <td>22222</td>\n",
       "    </tr>\n",
       "    <tr>\n",
       "      <th>US</th>\n",
       "      <td>13187</td>\n",
       "      <td>7349</td>\n",
       "    </tr>\n",
       "    <tr>\n",
       "      <th>VX</th>\n",
       "      <td>3416</td>\n",
       "      <td>1746</td>\n",
       "    </tr>\n",
       "    <tr>\n",
       "      <th>WN</th>\n",
       "      <td>6971</td>\n",
       "      <td>5304</td>\n",
       "    </tr>\n",
       "    <tr>\n",
       "      <th>YV</th>\n",
       "      <td>343</td>\n",
       "      <td>258</td>\n",
       "    </tr>\n",
       "  </tbody>\n",
       "</table>\n",
       "</div>"
      ],
      "text/plain": [
       "delayed  False  True \n",
       "carrier              \n",
       "9E       11823   6637\n",
       "AA       22023  10706\n",
       "AS         525    189\n",
       "B6       31026  23609\n",
       "DL       31697  16413\n",
       "EV       29689  24484\n",
       "F9         293    392\n",
       "FL        1365   1895\n",
       "HA         245     97\n",
       "MQ       14704  11693\n",
       "OO          22     10\n",
       "UA       36443  22222\n",
       "US       13187   7349\n",
       "VX        3416   1746\n",
       "WN        6971   5304\n",
       "YV         343    258"
      ]
     },
     "execution_count": 21,
     "metadata": {},
     "output_type": "execute_result"
    }
   ],
   "source": [
    "delayed_by_carrier = flight_df.groupby(['carrier','delayed']).size().unstack()\n",
    "delayed_by_carrier[0:]"
   ]
  },
  {
   "cell_type": "code",
   "execution_count": 22,
   "metadata": {
    "collapsed": false
   },
   "outputs": [
    {
     "data": {
      "text/html": [
       "<div>\n",
       "<table border=\"1\" class=\"dataframe\">\n",
       "  <thead>\n",
       "    <tr style=\"text-align: right;\">\n",
       "      <th>delayed</th>\n",
       "      <th>False</th>\n",
       "      <th>True</th>\n",
       "      <th>flights_count</th>\n",
       "      <th>proportion_delayed</th>\n",
       "    </tr>\n",
       "    <tr>\n",
       "      <th>carrier</th>\n",
       "      <th></th>\n",
       "      <th></th>\n",
       "      <th></th>\n",
       "      <th></th>\n",
       "    </tr>\n",
       "  </thead>\n",
       "  <tbody>\n",
       "    <tr>\n",
       "      <th>FL</th>\n",
       "      <td>1365</td>\n",
       "      <td>1895</td>\n",
       "      <td>3260</td>\n",
       "      <td>0.581288</td>\n",
       "    </tr>\n",
       "    <tr>\n",
       "      <th>F9</th>\n",
       "      <td>293</td>\n",
       "      <td>392</td>\n",
       "      <td>685</td>\n",
       "      <td>0.572263</td>\n",
       "    </tr>\n",
       "    <tr>\n",
       "      <th>EV</th>\n",
       "      <td>29689</td>\n",
       "      <td>24484</td>\n",
       "      <td>54173</td>\n",
       "      <td>0.451959</td>\n",
       "    </tr>\n",
       "    <tr>\n",
       "      <th>MQ</th>\n",
       "      <td>14704</td>\n",
       "      <td>11693</td>\n",
       "      <td>26397</td>\n",
       "      <td>0.442967</td>\n",
       "    </tr>\n",
       "    <tr>\n",
       "      <th>B6</th>\n",
       "      <td>31026</td>\n",
       "      <td>23609</td>\n",
       "      <td>54635</td>\n",
       "      <td>0.432122</td>\n",
       "    </tr>\n",
       "    <tr>\n",
       "      <th>WN</th>\n",
       "      <td>6971</td>\n",
       "      <td>5304</td>\n",
       "      <td>12275</td>\n",
       "      <td>0.432098</td>\n",
       "    </tr>\n",
       "    <tr>\n",
       "      <th>YV</th>\n",
       "      <td>343</td>\n",
       "      <td>258</td>\n",
       "      <td>601</td>\n",
       "      <td>0.429285</td>\n",
       "    </tr>\n",
       "    <tr>\n",
       "      <th>UA</th>\n",
       "      <td>36443</td>\n",
       "      <td>22222</td>\n",
       "      <td>58665</td>\n",
       "      <td>0.378795</td>\n",
       "    </tr>\n",
       "    <tr>\n",
       "      <th>9E</th>\n",
       "      <td>11823</td>\n",
       "      <td>6637</td>\n",
       "      <td>18460</td>\n",
       "      <td>0.359534</td>\n",
       "    </tr>\n",
       "    <tr>\n",
       "      <th>US</th>\n",
       "      <td>13187</td>\n",
       "      <td>7349</td>\n",
       "      <td>20536</td>\n",
       "      <td>0.357859</td>\n",
       "    </tr>\n",
       "    <tr>\n",
       "      <th>DL</th>\n",
       "      <td>31697</td>\n",
       "      <td>16413</td>\n",
       "      <td>48110</td>\n",
       "      <td>0.341156</td>\n",
       "    </tr>\n",
       "    <tr>\n",
       "      <th>VX</th>\n",
       "      <td>3416</td>\n",
       "      <td>1746</td>\n",
       "      <td>5162</td>\n",
       "      <td>0.338241</td>\n",
       "    </tr>\n",
       "    <tr>\n",
       "      <th>AA</th>\n",
       "      <td>22023</td>\n",
       "      <td>10706</td>\n",
       "      <td>32729</td>\n",
       "      <td>0.327111</td>\n",
       "    </tr>\n",
       "    <tr>\n",
       "      <th>OO</th>\n",
       "      <td>22</td>\n",
       "      <td>10</td>\n",
       "      <td>32</td>\n",
       "      <td>0.312500</td>\n",
       "    </tr>\n",
       "    <tr>\n",
       "      <th>HA</th>\n",
       "      <td>245</td>\n",
       "      <td>97</td>\n",
       "      <td>342</td>\n",
       "      <td>0.283626</td>\n",
       "    </tr>\n",
       "    <tr>\n",
       "      <th>AS</th>\n",
       "      <td>525</td>\n",
       "      <td>189</td>\n",
       "      <td>714</td>\n",
       "      <td>0.264706</td>\n",
       "    </tr>\n",
       "  </tbody>\n",
       "</table>\n",
       "</div>"
      ],
      "text/plain": [
       "delayed  False   True  flights_count  proportion_delayed\n",
       "carrier                                                 \n",
       "FL        1365   1895           3260            0.581288\n",
       "F9         293    392            685            0.572263\n",
       "EV       29689  24484          54173            0.451959\n",
       "MQ       14704  11693          26397            0.442967\n",
       "B6       31026  23609          54635            0.432122\n",
       "WN        6971   5304          12275            0.432098\n",
       "YV         343    258            601            0.429285\n",
       "UA       36443  22222          58665            0.378795\n",
       "9E       11823   6637          18460            0.359534\n",
       "US       13187   7349          20536            0.357859\n",
       "DL       31697  16413          48110            0.341156\n",
       "VX        3416   1746           5162            0.338241\n",
       "AA       22023  10706          32729            0.327111\n",
       "OO          22     10             32            0.312500\n",
       "HA         245     97            342            0.283626\n",
       "AS         525    189            714            0.264706"
      ]
     },
     "execution_count": 22,
     "metadata": {},
     "output_type": "execute_result"
    }
   ],
   "source": [
    "delayed_by_carrier['flights_count'] = (delayed_by_carrier[False] + delayed_by_carrier[True])\n",
    "#carrier wise proportion delay\n",
    "delayed_by_carrier['proportion_delayed'] = delayed_by_carrier[True] / delayed_by_carrier['flights_count']\n",
    "#Sort by the proportion of flights delayed\n",
    "delayed_by_carrier_sorted=delayed_by_carrier.sort_values('proportion_delayed', ascending=False)\n",
    "delayed_by_carrier_sorted[0:]"
   ]
  },
  {
   "cell_type": "code",
   "execution_count": 23,
   "metadata": {
    "collapsed": false,
    "scrolled": true
   },
   "outputs": [
    {
     "data": {
      "text/plain": [
       "<matplotlib.axes._subplots.AxesSubplot at 0x26150c2b3c8>"
      ]
     },
     "execution_count": 23,
     "metadata": {},
     "output_type": "execute_result"
    },
    {
     "data": {
      "image/png": "[encoded data removed]",
      "text/plain": [
       "<matplotlib.figure.Figure at 0x26151137390>"
      ]
     },
     "metadata": {},
     "output_type": "display_data"
    }
   ],
   "source": [
    "#Sort by the proportion of flights delayed in graphical format\n",
    "delayed_by_carrier_sorted['proportion_delayed'].plot(kind='bar', title='Proportion of flights delayed')"
   ]
  },
  {
   "cell_type": "code",
   "execution_count": 24,
   "metadata": {
    "collapsed": false
   },
   "outputs": [
    {
     "name": "stdout",
     "output_type": "stream",
     "text": [
      "0.3949331306268855\n"
     ]
    }
   ],
   "source": [
    "#Calculate the proportion of total flights delayed\n",
    "\n",
    "tot_delayed_by_carrier=delayed_by_carrier[True].sum()\n",
    "total_flights_count=delayed_by_carrier['flights_count'].sum()\n",
    "proportion_of_total_flights_delayed=tot_delayed_by_carrier/total_flights_count\n",
    "print(proportion_of_total_flights_delayed)"
   ]
  }
 ],
 "metadata": {
  "kernelspec": {
   "display_name": "Python 3",
   "language": "python",
   "name": "python3"
  },
  "language_info": {
   "codemirror_mode": {
    "name": "ipython",
    "version": 3
   },
   "file_extension": ".py",
   "mimetype": "text/x-python",
   "name": "python",
   "nbconvert_exporter": "python",
   "pygments_lexer": "ipython3",
   "version": "3.6.0"
  }
 },
 "nbformat": 4,
 "nbformat_minor": 2
}
