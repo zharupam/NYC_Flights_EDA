{
 "cells": [
  {
   "cell_type": "code",
   "execution_count": 2,
   "metadata": {
    "collapsed": true
   },
   "outputs": [],
   "source": [
    "your_local_path=\"D:/Python/\""
   ]
  },
  {
   "cell_type": "code",
   "execution_count": 9,
   "metadata": {
    "collapsed": false
   },
   "outputs": [
    {
     "data": {
      "text/html": [
       "<div>\n",
       "<table border=\"1\" class=\"dataframe\">\n",
       "  <thead>\n",
       "    <tr style=\"text-align: right;\">\n",
       "      <th>delayed</th>\n",
       "      <th>False</th>\n",
       "      <th>True</th>\n",
       "      <th>Departing_flights_count</th>\n",
       "      <th>Dep_delay</th>\n",
       "    </tr>\n",
       "    <tr>\n",
       "      <th>origin</th>\n",
       "      <th></th>\n",
       "      <th></th>\n",
       "      <th></th>\n",
       "      <th></th>\n",
       "    </tr>\n",
       "  </thead>\n",
       "  <tbody>\n",
       "    <tr>\n",
       "      <th>EWR</th>\n",
       "      <td>68124</td>\n",
       "      <td>52711</td>\n",
       "      <td>120835</td>\n",
       "      <td>43.622295</td>\n",
       "    </tr>\n",
       "    <tr>\n",
       "      <th>JFK</th>\n",
       "      <td>69248</td>\n",
       "      <td>42031</td>\n",
       "      <td>111279</td>\n",
       "      <td>37.770828</td>\n",
       "    </tr>\n",
       "    <tr>\n",
       "      <th>LGA</th>\n",
       "      <td>70972</td>\n",
       "      <td>33690</td>\n",
       "      <td>104662</td>\n",
       "      <td>32.189333</td>\n",
       "    </tr>\n",
       "  </tbody>\n",
       "</table>\n",
       "</div>"
      ],
      "text/plain": [
       "delayed  False   True  Departing_flights_count  Dep_delay\n",
       "origin                                                   \n",
       "EWR      68124  52711                   120835  43.622295\n",
       "JFK      69248  42031                   111279  37.770828\n",
       "LGA      70972  33690                   104662  32.189333"
      ]
     },
     "execution_count": 9,
     "metadata": {},
     "output_type": "execute_result"
    }
   ],
   "source": [
    "import numpy as np\n",
    "from numpy import array\n",
    "import pandas as pd \n",
    "import matplotlib as plt\n",
    "import matplotlib.pyplot as plt\n",
    "%matplotlib inline\n",
    "\n",
    "\n",
    "flight_data = your_local_path+'flight_data.csv'\n",
    "flights_df = pd.read_csv(flight_data)\n",
    "flights_df['delayed'] = flights_df['dep_delay'].apply(lambda x: x >0)\n",
    "airport_dep_delay=flights_df[flights_df['delayed'] == True]\n",
    "airport_dep_delay['origin'].value_counts()\n",
    "airport_dep_delay = flights_df.groupby(['origin','delayed']).size().unstack()\n",
    "airport_dep_delay['Departing_flights_count'] = (airport_dep_delay[True] + airport_dep_delay[False])\n",
    "airport_dep_delay['Dep_delay'] = (airport_dep_delay[True] / airport_dep_delay['Departing_flights_count'])*100\n",
    "airport_dep_delay[0:]\n"
   ]
  },
  {
   "cell_type": "code",
   "execution_count": 10,
   "metadata": {
    "collapsed": false
   },
   "outputs": [
    {
     "data": {
      "text/plain": [
       "<matplotlib.axes._subplots.AxesSubplot at 0x207c8a63940>"
      ]
     },
     "execution_count": 10,
     "metadata": {},
     "output_type": "execute_result"
    },
    {
     "data": {
      "image/png": "[encoded data removed]",
      "text/plain": [
       "<matplotlib.figure.Figure at 0x207c8a79898>"
      ]
     },
     "metadata": {},
     "output_type": "display_data"
    }
   ],
   "source": [
    "#1.Which airports are the worst to fly out of based on departure delay--- EWR\n",
    "airport_dep_delay['Dep_delay'].plot(kind='bar', title='Airports having departure delay')"
   ]
  },
  {
   "cell_type": "code",
   "execution_count": 13,
   "metadata": {
    "collapsed": false
   },
   "outputs": [
    {
     "data": {
      "text/plain": [
       "<matplotlib.axes._subplots.AxesSubplot at 0x207c80adcc0>"
      ]
     },
     "execution_count": 13,
     "metadata": {},
     "output_type": "execute_result"
    },
    {
     "data": {
      "image/png": "[encoded data removed]",
      "text/plain": [
       "<matplotlib.figure.Figure at 0x207c80cb588>"
      ]
     },
     "metadata": {},
     "output_type": "display_data"
    }
   ],
   "source": [
    "airport_dep_delay['Dep_delay'].plot(kind='pie', title='Departure delay')"
   ]
  },
  {
   "cell_type": "code",
   "execution_count": 14,
   "metadata": {
    "collapsed": false,
    "scrolled": true
   },
   "outputs": [
    {
     "data": {
      "text/plain": [
       "count     3.000000\n",
       "mean     37.860819\n",
       "std       5.717012\n",
       "min      32.189333\n",
       "25%      34.980081\n",
       "50%      37.770828\n",
       "75%      40.696562\n",
       "max      43.622295\n",
       "Name: Dep_delay, dtype: float64"
      ]
     },
     "execution_count": 14,
     "metadata": {},
     "output_type": "execute_result"
    }
   ],
   "source": [
    "airport_dep_delay['Dep_delay'].describe()"
   ]
  },
  {
   "cell_type": "code",
   "execution_count": 15,
   "metadata": {
    "collapsed": false
   },
   "outputs": [
    {
     "data": {
      "text/html": [
       "<div>\n",
       "<table border=\"1\" class=\"dataframe\">\n",
       "  <thead>\n",
       "    <tr style=\"text-align: right;\">\n",
       "      <th>delayed</th>\n",
       "      <th>False</th>\n",
       "      <th>True</th>\n",
       "      <th>Departing_flights_count</th>\n",
       "      <th>Dep_delay</th>\n",
       "      <th>On_or_before_schd_dep_time</th>\n",
       "    </tr>\n",
       "    <tr>\n",
       "      <th>origin</th>\n",
       "      <th></th>\n",
       "      <th></th>\n",
       "      <th></th>\n",
       "      <th></th>\n",
       "      <th></th>\n",
       "    </tr>\n",
       "  </thead>\n",
       "  <tbody>\n",
       "    <tr>\n",
       "      <th>EWR</th>\n",
       "      <td>68124</td>\n",
       "      <td>52711</td>\n",
       "      <td>120835</td>\n",
       "      <td>43.622295</td>\n",
       "      <td>56.377705</td>\n",
       "    </tr>\n",
       "    <tr>\n",
       "      <th>JFK</th>\n",
       "      <td>69248</td>\n",
       "      <td>42031</td>\n",
       "      <td>111279</td>\n",
       "      <td>37.770828</td>\n",
       "      <td>62.229172</td>\n",
       "    </tr>\n",
       "    <tr>\n",
       "      <th>LGA</th>\n",
       "      <td>70972</td>\n",
       "      <td>33690</td>\n",
       "      <td>104662</td>\n",
       "      <td>32.189333</td>\n",
       "      <td>67.810667</td>\n",
       "    </tr>\n",
       "  </tbody>\n",
       "</table>\n",
       "</div>"
      ],
      "text/plain": [
       "delayed  False   True  Departing_flights_count  Dep_delay  \\\n",
       "origin                                                      \n",
       "EWR      68124  52711                   120835  43.622295   \n",
       "JFK      69248  42031                   111279  37.770828   \n",
       "LGA      70972  33690                   104662  32.189333   \n",
       "\n",
       "delayed  On_or_before_schd_dep_time  \n",
       "origin                               \n",
       "EWR                       56.377705  \n",
       "JFK                       62.229172  \n",
       "LGA                       67.810667  "
      ]
     },
     "execution_count": 15,
     "metadata": {},
     "output_type": "execute_result"
    }
   ],
   "source": [
    "airport_dep_delay['On_or_before_schd_dep_time'] = (airport_dep_delay[False] / airport_dep_delay['Departing_flights_count'])*100\n",
    "airport_dep_delay.sort_values('On_or_before_schd_dep_time', ascending=False)\n",
    "airport_dep_delay[0:]"
   ]
  },
  {
   "cell_type": "code",
   "execution_count": 16,
   "metadata": {
    "collapsed": false
   },
   "outputs": [
    {
     "data": {
      "text/plain": [
       "<matplotlib.axes._subplots.AxesSubplot at 0x207c80d17b8>"
      ]
     },
     "execution_count": 16,
     "metadata": {},
     "output_type": "execute_result"
    },
    {
     "data": {
      "image/png": "[encoded data removed]",
      "text/plain": [
       "<matplotlib.figure.Figure at 0x207c8187c50>"
      ]
     },
     "metadata": {},
     "output_type": "display_data"
    }
   ],
   "source": [
    "#2.Which airports are the best to fly out of based on departure delay---LGA\n",
    "airport_dep_delay['On_or_before_schd_dep_time'].plot(kind='bar', title='Airports_on_or_before_schd_dep_time')"
   ]
  },
  {
   "cell_type": "code",
   "execution_count": 17,
   "metadata": {
    "collapsed": false
   },
   "outputs": [
    {
     "data": {
      "text/plain": [
       "<matplotlib.axes._subplots.AxesSubplot at 0x207c828ccc0>"
      ]
     },
     "execution_count": 17,
     "metadata": {},
     "output_type": "execute_result"
    },
    {
     "data": {
      "image/png": "[encoded data removed]",
      "text/plain": [
       "<matplotlib.figure.Figure at 0x207c8119550>"
      ]
     },
     "metadata": {},
     "output_type": "display_data"
    }
   ],
   "source": [
    "airport_dep_delay['On_or_before_schd_dep_time'].plot(kind='pie', title='Airports_on_or_before_schd_dep_time')"
   ]
  },
  {
   "cell_type": "code",
   "execution_count": 18,
   "metadata": {
    "collapsed": false
   },
   "outputs": [
    {
     "data": {
      "text/plain": [
       "count     3.000000\n",
       "mean     62.139181\n",
       "std       5.717012\n",
       "min      56.377705\n",
       "25%      59.303438\n",
       "50%      62.229172\n",
       "75%      65.019919\n",
       "max      67.810667\n",
       "Name: On_or_before_schd_dep_time, dtype: float64"
      ]
     },
     "execution_count": 18,
     "metadata": {},
     "output_type": "execute_result"
    }
   ],
   "source": [
    "airport_dep_delay['On_or_before_schd_dep_time'].describe()"
   ]
  },
  {
   "cell_type": "code",
   "execution_count": 19,
   "metadata": {
    "collapsed": false
   },
   "outputs": [
    {
     "data": {
      "text/html": [
       "<div>\n",
       "<table border=\"1\" class=\"dataframe\">\n",
       "  <thead>\n",
       "    <tr style=\"text-align: right;\">\n",
       "      <th>delayed</th>\n",
       "      <th>False</th>\n",
       "      <th>True</th>\n",
       "      <th>Arriving_flights_count</th>\n",
       "      <th>Arr_delay</th>\n",
       "    </tr>\n",
       "    <tr>\n",
       "      <th>dest</th>\n",
       "      <th></th>\n",
       "      <th></th>\n",
       "      <th></th>\n",
       "      <th></th>\n",
       "    </tr>\n",
       "  </thead>\n",
       "  <tbody>\n",
       "    <tr>\n",
       "      <th>CAE</th>\n",
       "      <td>29.0</td>\n",
       "      <td>87.0</td>\n",
       "      <td>116.0</td>\n",
       "      <td>75.000000</td>\n",
       "    </tr>\n",
       "    <tr>\n",
       "      <th>JAC</th>\n",
       "      <td>8.0</td>\n",
       "      <td>17.0</td>\n",
       "      <td>25.0</td>\n",
       "      <td>68.000000</td>\n",
       "    </tr>\n",
       "    <tr>\n",
       "      <th>ANC</th>\n",
       "      <td>3.0</td>\n",
       "      <td>5.0</td>\n",
       "      <td>8.0</td>\n",
       "      <td>62.500000</td>\n",
       "    </tr>\n",
       "    <tr>\n",
       "      <th>TUL</th>\n",
       "      <td>122.0</td>\n",
       "      <td>193.0</td>\n",
       "      <td>315.0</td>\n",
       "      <td>61.269841</td>\n",
       "    </tr>\n",
       "    <tr>\n",
       "      <th>EYW</th>\n",
       "      <td>7.0</td>\n",
       "      <td>10.0</td>\n",
       "      <td>17.0</td>\n",
       "      <td>58.823529</td>\n",
       "    </tr>\n",
       "    <tr>\n",
       "      <th>OKC</th>\n",
       "      <td>145.0</td>\n",
       "      <td>201.0</td>\n",
       "      <td>346.0</td>\n",
       "      <td>58.092486</td>\n",
       "    </tr>\n",
       "    <tr>\n",
       "      <th>HDN</th>\n",
       "      <td>7.0</td>\n",
       "      <td>8.0</td>\n",
       "      <td>15.0</td>\n",
       "      <td>53.333333</td>\n",
       "    </tr>\n",
       "    <tr>\n",
       "      <th>SMF</th>\n",
       "      <td>134.0</td>\n",
       "      <td>150.0</td>\n",
       "      <td>284.0</td>\n",
       "      <td>52.816901</td>\n",
       "    </tr>\n",
       "    <tr>\n",
       "      <th>CAK</th>\n",
       "      <td>412.0</td>\n",
       "      <td>452.0</td>\n",
       "      <td>864.0</td>\n",
       "      <td>52.314815</td>\n",
       "    </tr>\n",
       "    <tr>\n",
       "      <th>MSN</th>\n",
       "      <td>287.0</td>\n",
       "      <td>285.0</td>\n",
       "      <td>572.0</td>\n",
       "      <td>49.825175</td>\n",
       "    </tr>\n",
       "  </tbody>\n",
       "</table>\n",
       "</div>"
      ],
      "text/plain": [
       "delayed  False   True  Arriving_flights_count  Arr_delay\n",
       "dest                                                    \n",
       "CAE       29.0   87.0                   116.0  75.000000\n",
       "JAC        8.0   17.0                    25.0  68.000000\n",
       "ANC        3.0    5.0                     8.0  62.500000\n",
       "TUL      122.0  193.0                   315.0  61.269841\n",
       "EYW        7.0   10.0                    17.0  58.823529\n",
       "OKC      145.0  201.0                   346.0  58.092486\n",
       "HDN        7.0    8.0                    15.0  53.333333\n",
       "SMF      134.0  150.0                   284.0  52.816901\n",
       "CAK      412.0  452.0                   864.0  52.314815\n",
       "MSN      287.0  285.0                   572.0  49.825175"
      ]
     },
     "execution_count": 19,
     "metadata": {},
     "output_type": "execute_result"
    }
   ],
   "source": [
    "#Airport wise arrival delay\n",
    "flights_df['delayed'] = flights_df['arr_delay'].apply(lambda x: x >0)\n",
    "airport_arr_delay=flights_df[flights_df['delayed'] == True]\n",
    "airport_arr_delay['dest'].value_counts()\n",
    "airport_arr_delay = flights_df.groupby(['dest','delayed']).size().unstack()\n",
    "airport_arr_delay['Arriving_flights_count'] = (airport_arr_delay[True] + airport_arr_delay[False])\n",
    "airport_arr_delay['Arr_delay'] = (airport_arr_delay[True] / airport_arr_delay['Arriving_flights_count'])*100\n",
    "airport_arr_delay[0:]\n",
    "airport_arr_delayed=airport_arr_delay.sort_values('Arr_delay', ascending=False).head(10)\n",
    "airport_arr_delayed[0:] #Top 10 airports with worst arrival delay record.\n"
   ]
  },
  {
   "cell_type": "code",
   "execution_count": 20,
   "metadata": {
    "collapsed": false
   },
   "outputs": [
    {
     "data": {
      "text/plain": [
       "<matplotlib.axes._subplots.AxesSubplot at 0x207c821f390>"
      ]
     },
     "execution_count": 20,
     "metadata": {},
     "output_type": "execute_result"
    },
    {
     "data": {
      "image/png": "[encoded data removed]",
      "text/plain": [
       "<matplotlib.figure.Figure at 0x207c8297c50>"
      ]
     },
     "metadata": {},
     "output_type": "display_data"
    }
   ],
   "source": [
    "#1.Which airports are the worst to fly in based on arrival delay-CAE\n",
    "airport_arr_delayed['Arr_delay'].plot(kind='bar', title='Airports with arrival delay')\n"
   ]
  },
  {
   "cell_type": "code",
   "execution_count": 24,
   "metadata": {
    "collapsed": false
   },
   "outputs": [
    {
     "data": {
      "text/html": [
       "<div>\n",
       "<table border=\"1\" class=\"dataframe\">\n",
       "  <thead>\n",
       "    <tr style=\"text-align: right;\">\n",
       "      <th>delayed</th>\n",
       "      <th>False</th>\n",
       "      <th>True</th>\n",
       "      <th>Arriving_flights_count</th>\n",
       "      <th>Arr_delay</th>\n",
       "      <th>On_or_before_schd_arr_time</th>\n",
       "    </tr>\n",
       "    <tr>\n",
       "      <th>dest</th>\n",
       "      <th></th>\n",
       "      <th></th>\n",
       "      <th></th>\n",
       "      <th></th>\n",
       "      <th></th>\n",
       "    </tr>\n",
       "  </thead>\n",
       "  <tbody>\n",
       "    <tr>\n",
       "      <th>MVY</th>\n",
       "      <td>163.0</td>\n",
       "      <td>58.0</td>\n",
       "      <td>221.0</td>\n",
       "      <td>26.244344</td>\n",
       "      <td>73.755656</td>\n",
       "    </tr>\n",
       "    <tr>\n",
       "      <th>SNA</th>\n",
       "      <td>586.0</td>\n",
       "      <td>239.0</td>\n",
       "      <td>825.0</td>\n",
       "      <td>28.969697</td>\n",
       "      <td>71.030303</td>\n",
       "    </tr>\n",
       "    <tr>\n",
       "      <th>BOS</th>\n",
       "      <td>10765.0</td>\n",
       "      <td>4743.0</td>\n",
       "      <td>15508.0</td>\n",
       "      <td>30.584215</td>\n",
       "      <td>69.415785</td>\n",
       "    </tr>\n",
       "    <tr>\n",
       "      <th>PSP</th>\n",
       "      <td>13.0</td>\n",
       "      <td>6.0</td>\n",
       "      <td>19.0</td>\n",
       "      <td>31.578947</td>\n",
       "      <td>68.421053</td>\n",
       "    </tr>\n",
       "    <tr>\n",
       "      <th>SEA</th>\n",
       "      <td>2654.0</td>\n",
       "      <td>1269.0</td>\n",
       "      <td>3923.0</td>\n",
       "      <td>32.347693</td>\n",
       "      <td>67.652307</td>\n",
       "    </tr>\n",
       "    <tr>\n",
       "      <th>BDL</th>\n",
       "      <td>299.0</td>\n",
       "      <td>144.0</td>\n",
       "      <td>443.0</td>\n",
       "      <td>32.505643</td>\n",
       "      <td>67.494357</td>\n",
       "    </tr>\n",
       "    <tr>\n",
       "      <th>STT</th>\n",
       "      <td>352.0</td>\n",
       "      <td>170.0</td>\n",
       "      <td>522.0</td>\n",
       "      <td>32.567050</td>\n",
       "      <td>67.432950</td>\n",
       "    </tr>\n",
       "    <tr>\n",
       "      <th>MIA</th>\n",
       "      <td>7873.0</td>\n",
       "      <td>3855.0</td>\n",
       "      <td>11728.0</td>\n",
       "      <td>32.870055</td>\n",
       "      <td>67.129945</td>\n",
       "    </tr>\n",
       "    <tr>\n",
       "      <th>DFW</th>\n",
       "      <td>5862.0</td>\n",
       "      <td>2876.0</td>\n",
       "      <td>8738.0</td>\n",
       "      <td>32.913710</td>\n",
       "      <td>67.086290</td>\n",
       "    </tr>\n",
       "    <tr>\n",
       "      <th>MTJ</th>\n",
       "      <td>10.0</td>\n",
       "      <td>5.0</td>\n",
       "      <td>15.0</td>\n",
       "      <td>33.333333</td>\n",
       "      <td>66.666667</td>\n",
       "    </tr>\n",
       "  </tbody>\n",
       "</table>\n",
       "</div>"
      ],
      "text/plain": [
       "delayed    False    True  Arriving_flights_count  Arr_delay  \\\n",
       "dest                                                          \n",
       "MVY        163.0    58.0                   221.0  26.244344   \n",
       "SNA        586.0   239.0                   825.0  28.969697   \n",
       "BOS      10765.0  4743.0                 15508.0  30.584215   \n",
       "PSP         13.0     6.0                    19.0  31.578947   \n",
       "SEA       2654.0  1269.0                  3923.0  32.347693   \n",
       "BDL        299.0   144.0                   443.0  32.505643   \n",
       "STT        352.0   170.0                   522.0  32.567050   \n",
       "MIA       7873.0  3855.0                 11728.0  32.870055   \n",
       "DFW       5862.0  2876.0                  8738.0  32.913710   \n",
       "MTJ         10.0     5.0                    15.0  33.333333   \n",
       "\n",
       "delayed  On_or_before_schd_arr_time  \n",
       "dest                                 \n",
       "MVY                       73.755656  \n",
       "SNA                       71.030303  \n",
       "BOS                       69.415785  \n",
       "PSP                       68.421053  \n",
       "SEA                       67.652307  \n",
       "BDL                       67.494357  \n",
       "STT                       67.432950  \n",
       "MIA                       67.129945  \n",
       "DFW                       67.086290  \n",
       "MTJ                       66.666667  "
      ]
     },
     "execution_count": 24,
     "metadata": {},
     "output_type": "execute_result"
    }
   ],
   "source": [
    "airport_arr_delay['On_or_before_schd_arr_time'] = (airport_arr_delay[False] / airport_arr_delay['Arriving_flights_count'])*100\n",
    "airport_arr_delayed=airport_arr_delay.sort_values('Arr_delay', ascending=False).head(10)\n",
    "airport_arr_delayed[0:] #Top 10 airports with least arrival delay."
   ]
  },
  {
   "cell_type": "code",
   "execution_count": 25,
   "metadata": {
    "collapsed": false
   },
   "outputs": [
    {
     "data": {
      "text/plain": [
       "<matplotlib.axes._subplots.AxesSubplot at 0x207c825fb70>"
      ]
     },
     "execution_count": 25,
     "metadata": {},
     "output_type": "execute_result"
    },
    {
     "data": {
      "image/png": "[encoded data removed]",
      "text/plain": [
       "<matplotlib.figure.Figure at 0x207c8e7d6d8>"
      ]
     },
     "metadata": {},
     "output_type": "display_data"
    }
   ],
   "source": [
    "#1.Which airports are the best to fly in based on arrival delay-MVY\n",
    "airport_arr_delayed['Arr_delay'].plot(kind='bar', title='Airports_on_or_before_schd_arr_time')\n"
   ]
  },
  {
   "cell_type": "code",
   "execution_count": 26,
   "metadata": {
    "collapsed": false
   },
   "outputs": [
    {
     "data": {
      "text/html": [
       "<div>\n",
       "<table border=\"1\" class=\"dataframe\">\n",
       "  <thead>\n",
       "    <tr style=\"text-align: right;\">\n",
       "      <th></th>\n",
       "      <th>origin</th>\n",
       "      <th>Cancelled_Flights</th>\n",
       "      <th>Total_Flights</th>\n",
       "      <th>Percentage_Cancellation_with_origin</th>\n",
       "    </tr>\n",
       "  </thead>\n",
       "  <tbody>\n",
       "    <tr>\n",
       "      <th>0</th>\n",
       "      <td>EWR</td>\n",
       "      <td>3239</td>\n",
       "      <td>120835</td>\n",
       "      <td>2.680515</td>\n",
       "    </tr>\n",
       "    <tr>\n",
       "      <th>1</th>\n",
       "      <td>JFK</td>\n",
       "      <td>1863</td>\n",
       "      <td>111279</td>\n",
       "      <td>1.674170</td>\n",
       "    </tr>\n",
       "    <tr>\n",
       "      <th>2</th>\n",
       "      <td>LGA</td>\n",
       "      <td>3153</td>\n",
       "      <td>104662</td>\n",
       "      <td>3.012555</td>\n",
       "    </tr>\n",
       "  </tbody>\n",
       "</table>\n",
       "</div>"
      ],
      "text/plain": [
       "  origin  Cancelled_Flights  Total_Flights  \\\n",
       "0    EWR               3239         120835   \n",
       "1    JFK               1863         111279   \n",
       "2    LGA               3153         104662   \n",
       "\n",
       "   Percentage_Cancellation_with_origin  \n",
       "0                             2.680515  \n",
       "1                             1.674170  \n",
       "2                             3.012555  "
      ]
     },
     "execution_count": 26,
     "metadata": {},
     "output_type": "execute_result"
    }
   ],
   "source": [
    "#airports experience the maximum cancellations\n",
    "#Fitering dataset for flights meeting cancellation crietria\n",
    "flights_df = pd.read_csv(flight_data)\n",
    "flights_df_filtered_airport = flights_df[flights_df.dep_time.isnull() & flights_df.arr_time.isnull() & flights_df.dep_delay.isnull() & flights_df.arr_delay.isnull() & flights_df.air_time.isnull()]\n",
    "\n",
    "#Grouping by carrier and getting the count of cancelled flights\n",
    "flights_df_filtered_grouped = flights_df_filtered_airport.groupby([flights_df_filtered_airport.origin]).size().reset_index(name='Cancelled_Flights')\n",
    "flights_df_filtered_grouped\n",
    "\n",
    "#Grouping by carrier to find the total flight count for each carrier\n",
    "flights_df_filtered_grouped_total = flights_df.groupby([flights_df.origin]).size().reset_index(name='Total_Flights')\n",
    "flights_df_filtered_grouped_total\n",
    "\n",
    "#Merging both the dataframes\n",
    "flight_df_merged = pd.merge(flights_df_filtered_grouped, flights_df_filtered_grouped_total, on='origin', how='right')\n",
    "\n",
    "#Calculating Percentage_Cancellation \n",
    "flight_df_merged['Percentage_Cancellation_with_origin'] = (flight_df_merged.Cancelled_Flights/flight_df_merged.Total_Flights)*100\n",
    "flight_df_merged[0:]\n"
   ]
  },
  {
   "cell_type": "code",
   "execution_count": 27,
   "metadata": {
    "collapsed": false
   },
   "outputs": [
    {
     "data": {
      "image/png": "[encoded data removed]",
      "text/plain": [
       "<matplotlib.figure.Figure at 0x207c8ff62b0>"
      ]
     },
     "metadata": {},
     "output_type": "display_data"
    }
   ],
   "source": [
    "#Plotting Percentage_Cancellation per (Origin) Airport\n",
    "ind = np.arange(len(flight_df_merged.origin))\n",
    "plt.bar(ind, flight_df_merged.Percentage_Cancellation_with_origin, color=\"blue\")\n",
    "plt.ylabel('Percentage_Cancellation_with_origin')\n",
    "plt.xlabel('Airports(Origin)')\n",
    "plt.title('Percentage_Cancellation per Airport(Origin)')\n",
    "plt.xticks(ind, flight_df_merged.origin)\n",
    "plt.show()\n",
    "#airports(origin) experience the maximum cancellations --LGA"
   ]
  },
  {
   "cell_type": "code",
   "execution_count": 29,
   "metadata": {
    "collapsed": false
   },
   "outputs": [
    {
     "data": {
      "text/html": [
       "<div>\n",
       "<table border=\"1\" class=\"dataframe\">\n",
       "  <thead>\n",
       "    <tr style=\"text-align: right;\">\n",
       "      <th></th>\n",
       "      <th>dest</th>\n",
       "      <th>Cancelled_Flights</th>\n",
       "      <th>Total_Flights</th>\n",
       "      <th>Percentage_Cancellation_with_destination</th>\n",
       "    </tr>\n",
       "  </thead>\n",
       "  <tbody>\n",
       "    <tr>\n",
       "      <th>46</th>\n",
       "      <td>LGA</td>\n",
       "      <td>1.0</td>\n",
       "      <td>1</td>\n",
       "      <td>100.000000</td>\n",
       "    </tr>\n",
       "    <tr>\n",
       "      <th>42</th>\n",
       "      <td>JAC</td>\n",
       "      <td>3.0</td>\n",
       "      <td>25</td>\n",
       "      <td>12.000000</td>\n",
       "    </tr>\n",
       "    <tr>\n",
       "      <th>17</th>\n",
       "      <td>CHO</td>\n",
       "      <td>6.0</td>\n",
       "      <td>52</td>\n",
       "      <td>11.538462</td>\n",
       "    </tr>\n",
       "    <tr>\n",
       "      <th>6</th>\n",
       "      <td>BHM</td>\n",
       "      <td>25.0</td>\n",
       "      <td>297</td>\n",
       "      <td>8.417508</td>\n",
       "    </tr>\n",
       "    <tr>\n",
       "      <th>97</th>\n",
       "      <td>TYS</td>\n",
       "      <td>52.0</td>\n",
       "      <td>631</td>\n",
       "      <td>8.240887</td>\n",
       "    </tr>\n",
       "    <tr>\n",
       "      <th>24</th>\n",
       "      <td>DAY</td>\n",
       "      <td>123.0</td>\n",
       "      <td>1525</td>\n",
       "      <td>8.065574</td>\n",
       "    </tr>\n",
       "    <tr>\n",
       "      <th>15</th>\n",
       "      <td>CAE</td>\n",
       "      <td>9.0</td>\n",
       "      <td>116</td>\n",
       "      <td>7.758621</td>\n",
       "    </tr>\n",
       "    <tr>\n",
       "      <th>52</th>\n",
       "      <td>MHT</td>\n",
       "      <td>77.0</td>\n",
       "      <td>1009</td>\n",
       "      <td>7.631318</td>\n",
       "    </tr>\n",
       "    <tr>\n",
       "      <th>28</th>\n",
       "      <td>DSM</td>\n",
       "      <td>41.0</td>\n",
       "      <td>569</td>\n",
       "      <td>7.205624</td>\n",
       "    </tr>\n",
       "    <tr>\n",
       "      <th>4</th>\n",
       "      <td>BDL</td>\n",
       "      <td>31.0</td>\n",
       "      <td>443</td>\n",
       "      <td>6.997743</td>\n",
       "    </tr>\n",
       "  </tbody>\n",
       "</table>\n",
       "</div>"
      ],
      "text/plain": [
       "   dest  Cancelled_Flights  Total_Flights  \\\n",
       "46  LGA                1.0              1   \n",
       "42  JAC                3.0             25   \n",
       "17  CHO                6.0             52   \n",
       "6   BHM               25.0            297   \n",
       "97  TYS               52.0            631   \n",
       "24  DAY              123.0           1525   \n",
       "15  CAE                9.0            116   \n",
       "52  MHT               77.0           1009   \n",
       "28  DSM               41.0            569   \n",
       "4   BDL               31.0            443   \n",
       "\n",
       "    Percentage_Cancellation_with_destination  \n",
       "46                                100.000000  \n",
       "42                                 12.000000  \n",
       "17                                 11.538462  \n",
       "6                                   8.417508  \n",
       "97                                  8.240887  \n",
       "24                                  8.065574  \n",
       "15                                  7.758621  \n",
       "52                                  7.631318  \n",
       "28                                  7.205624  \n",
       "4                                   6.997743  "
      ]
     },
     "execution_count": 29,
     "metadata": {},
     "output_type": "execute_result"
    }
   ],
   "source": [
    "#airports(destinaltion) experience the maximum cancellations\n",
    "#Fitering dataset for flights meeting cancellation crietria\n",
    "flights_df = pd.read_csv(flight_data)\n",
    "flights_df_filtered_airport = flights_df[flights_df.dep_time.isnull() & flights_df.arr_time.isnull() & flights_df.dep_delay.isnull() & flights_df.arr_delay.isnull() & flights_df.air_time.isnull()]\n",
    "\n",
    "#Grouping by carrier and getting the count of cancelled flights\n",
    "flights_df_filtered_grouped = flights_df_filtered_airport.groupby([flights_df_filtered_airport.dest]).size().reset_index(name='Cancelled_Flights')\n",
    "flights_df_filtered_grouped\n",
    "\n",
    "#Grouping by carrier to find the total flight count for each carrier\n",
    "flights_df_filtered_grouped_total = flights_df.groupby([flights_df.dest]).size().reset_index(name='Total_Flights')\n",
    "flights_df_filtered_grouped_total\n",
    "\n",
    "#Merging both the dataframes\n",
    "flight_df_merged = pd.merge(flights_df_filtered_grouped, flights_df_filtered_grouped_total, on='dest', how='right')\n",
    "\n",
    "#Calculating Percentage_Cancellation \n",
    "flight_df_merged['Percentage_Cancellation_with_destination'] = (flight_df_merged.Cancelled_Flights/flight_df_merged.Total_Flights)*100\n",
    "flight_df_merged_sorted= flight_df_merged.sort_values('Percentage_Cancellation_with_destination', ascending=False).head(10)\n",
    "flight_df_merged_sorted[0:] #Top 10 airports (destination) with most cancellations\n"
   ]
  },
  {
   "cell_type": "code",
   "execution_count": 30,
   "metadata": {
    "collapsed": false
   },
   "outputs": [
    {
     "data": {
      "image/png": "[encoded data removed]",
      "text/plain": [
       "<matplotlib.figure.Figure at 0x207c8f8fbe0>"
      ]
     },
     "metadata": {},
     "output_type": "display_data"
    }
   ],
   "source": [
    "#Plotting Percentage_Cancellation per (Destination) Airport\n",
    "ind = np.arange(len(flight_df_merged_sorted.dest))\n",
    "plt.bar(ind, flight_df_merged_sorted.Percentage_Cancellation_with_destination, color=\"green\")\n",
    "plt.ylabel('Percentage_Cancellation_with_destination')\n",
    "plt.xlabel('Airports(Destination)')\n",
    "plt.title('Percentage_Cancellation per Airport(Destination)')\n",
    "plt.xticks(ind, flight_df_merged_sorted.dest)\n",
    "plt.show()\n",
    "\n",
    "#airports(destination) experience the maximum cancellations --LGA"
   ]
  },
  {
   "cell_type": "code",
   "execution_count": 31,
   "metadata": {
    "collapsed": false
   },
   "outputs": [
    {
     "data": {
      "text/html": [
       "<div>\n",
       "<table border=\"1\" class=\"dataframe\">\n",
       "  <thead>\n",
       "    <tr style=\"text-align: right;\">\n",
       "      <th></th>\n",
       "      <th>origin</th>\n",
       "      <th>Num_of_departures</th>\n",
       "    </tr>\n",
       "  </thead>\n",
       "  <tbody>\n",
       "    <tr>\n",
       "      <th>0</th>\n",
       "      <td>EWR</td>\n",
       "      <td>120835</td>\n",
       "    </tr>\n",
       "    <tr>\n",
       "      <th>1</th>\n",
       "      <td>JFK</td>\n",
       "      <td>111279</td>\n",
       "    </tr>\n",
       "    <tr>\n",
       "      <th>2</th>\n",
       "      <td>LGA</td>\n",
       "      <td>104662</td>\n",
       "    </tr>\n",
       "  </tbody>\n",
       "</table>\n",
       "</div>"
      ],
      "text/plain": [
       "  origin  Num_of_departures\n",
       "0    EWR             120835\n",
       "1    JFK             111279\n",
       "2    LGA             104662"
      ]
     },
     "execution_count": 31,
     "metadata": {},
     "output_type": "execute_result"
    }
   ],
   "source": [
    "#Maximum no. of departures handled from an airport\n",
    "flights_df = pd.read_csv(flight_data)\n",
    "flights_df['origin'].value_counts() \n",
    "flights_df_dep_count = flights_df.groupby(['origin'])\n",
    "\n",
    "#Grouping by origin and getting the no. of departures/airport\n",
    "flights_df_dep_count = flights_df.groupby([flights_df.origin]).size().reset_index(name='Num_of_departures')\n",
    "flights_df_dep_count"
   ]
  },
  {
   "cell_type": "code",
   "execution_count": 32,
   "metadata": {
    "collapsed": false
   },
   "outputs": [
    {
     "data": {
      "image/png": "[encoded data removed]",
      "text/plain": [
       "<matplotlib.figure.Figure at 0x207c92f3208>"
      ]
     },
     "metadata": {},
     "output_type": "display_data"
    }
   ],
   "source": [
    "#Maximum no. of departures handled by an airport---EWR\n",
    "ind = np.arange(len(flights_df_dep_count.origin))\n",
    "plt.bar(ind, flights_df_dep_count.Num_of_departures, color=\"blue\")\n",
    "plt.ylabel('Num_of_departures')\n",
    "plt.xlabel('Airports(Origin)')\n",
    "plt.title('Departures handled by airports(Origin)')\n",
    "plt.xticks(ind, flights_df_dep_count.origin)\n",
    "plt.show()\n"
   ]
  },
  {
   "cell_type": "code",
   "execution_count": 33,
   "metadata": {
    "collapsed": false
   },
   "outputs": [
    {
     "data": {
      "text/html": [
       "<div>\n",
       "<table border=\"1\" class=\"dataframe\">\n",
       "  <thead>\n",
       "    <tr style=\"text-align: right;\">\n",
       "      <th></th>\n",
       "      <th>dest</th>\n",
       "      <th>Num_of_arrivals</th>\n",
       "    </tr>\n",
       "  </thead>\n",
       "  <tbody>\n",
       "    <tr>\n",
       "      <th>69</th>\n",
       "      <td>ORD</td>\n",
       "      <td>17283</td>\n",
       "    </tr>\n",
       "    <tr>\n",
       "      <th>4</th>\n",
       "      <td>ATL</td>\n",
       "      <td>17215</td>\n",
       "    </tr>\n",
       "    <tr>\n",
       "      <th>49</th>\n",
       "      <td>LAX</td>\n",
       "      <td>16174</td>\n",
       "    </tr>\n",
       "    <tr>\n",
       "      <th>11</th>\n",
       "      <td>BOS</td>\n",
       "      <td>15508</td>\n",
       "    </tr>\n",
       "    <tr>\n",
       "      <th>54</th>\n",
       "      <td>MCO</td>\n",
       "      <td>14082</td>\n",
       "    </tr>\n",
       "    <tr>\n",
       "      <th>23</th>\n",
       "      <td>CLT</td>\n",
       "      <td>14064</td>\n",
       "    </tr>\n",
       "    <tr>\n",
       "      <th>90</th>\n",
       "      <td>SFO</td>\n",
       "      <td>13331</td>\n",
       "    </tr>\n",
       "    <tr>\n",
       "      <th>35</th>\n",
       "      <td>FLL</td>\n",
       "      <td>12055</td>\n",
       "    </tr>\n",
       "    <tr>\n",
       "      <th>58</th>\n",
       "      <td>MIA</td>\n",
       "      <td>11728</td>\n",
       "    </tr>\n",
       "    <tr>\n",
       "      <th>28</th>\n",
       "      <td>DCA</td>\n",
       "      <td>9705</td>\n",
       "    </tr>\n",
       "  </tbody>\n",
       "</table>\n",
       "</div>"
      ],
      "text/plain": [
       "   dest  Num_of_arrivals\n",
       "69  ORD            17283\n",
       "4   ATL            17215\n",
       "49  LAX            16174\n",
       "11  BOS            15508\n",
       "54  MCO            14082\n",
       "23  CLT            14064\n",
       "90  SFO            13331\n",
       "35  FLL            12055\n",
       "58  MIA            11728\n",
       "28  DCA             9705"
      ]
     },
     "execution_count": 33,
     "metadata": {},
     "output_type": "execute_result"
    }
   ],
   "source": [
    "#Maximum no. of arrivals handled from an airport\n",
    "flights_df = pd.read_csv(flight_data)\n",
    "flights_df['dest'].value_counts() \n",
    "flights_df_dep_count = flights_df.groupby(['dest'])\n",
    "#Grouping by destination and getting the no. of departures/airport\n",
    "flights_df_arr_count = flights_df.groupby([flights_df.dest]).size().reset_index(name='Num_of_arrivals')\n",
    "flights_df_arr_count_sorted= flights_df_arr_count.sort_values('Num_of_arrivals', ascending=False).head(10)\n",
    "flights_df_arr_count_sorted[0:] \n"
   ]
  },
  {
   "cell_type": "code",
   "execution_count": 34,
   "metadata": {
    "collapsed": false
   },
   "outputs": [
    {
     "data": {
      "image/png": "[encoded data removed]",
      "text/plain": [
       "<matplotlib.figure.Figure at 0x207c93bc400>"
      ]
     },
     "metadata": {},
     "output_type": "display_data"
    }
   ],
   "source": [
    "#Maximum no. of arrivals handled by an airport---ORD\n",
    "ind = np.arange(len(flights_df_arr_count_sorted.dest))\n",
    "plt.bar(ind, flights_df_arr_count_sorted.Num_of_arrivals, color=\"green\")\n",
    "plt.ylabel('Num_of_arrivals')\n",
    "plt.xlabel('Airports(Destination)')\n",
    "plt.title('Arrivals handled by airports(Destination)')\n",
    "plt.xticks(ind, flights_df_arr_count_sorted.dest)\n",
    "plt.show()\n"
   ]
  }
 ],
 "metadata": {
  "kernelspec": {
   "display_name": "Python 3",
   "language": "python",
   "name": "python3"
  },
  "language_info": {
   "codemirror_mode": {
    "name": "ipython",
    "version": 3
   },
   "file_extension": ".py",
   "mimetype": "text/x-python",
   "name": "python",
   "nbconvert_exporter": "python",
   "pygments_lexer": "ipython3",
   "version": "3.6.0"
  }
 },
 "nbformat": 4,
 "nbformat_minor": 2
}
